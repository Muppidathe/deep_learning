{
  "nbformat": 4,
  "nbformat_minor": 0,
  "metadata": {
    "colab": {
      "provenance": [],
      "gpuType": "T4",
      "authorship_tag": "ABX9TyNDw5bh3XRBtgMixtP5RQlT",
      "include_colab_link": true
    },
    "kernelspec": {
      "name": "python3",
      "display_name": "Python 3"
    },
    "language_info": {
      "name": "python"
    },
    "accelerator": "GPU"
  },
  "cells": [
    {
      "cell_type": "markdown",
      "metadata": {
        "id": "view-in-github",
        "colab_type": "text"
      },
      "source": [
        "<a href=\"https://colab.research.google.com/github/Muppidathe/deep_learning/blob/main/vgg16transferlearning_pytorch.ipynb\" target=\"_parent\"><img src=\"https://colab.research.google.com/assets/colab-badge.svg\" alt=\"Open In Colab\"/></a>"
      ]
    },
    {
      "cell_type": "code",
      "execution_count": 1,
      "metadata": {
        "colab": {
          "base_uri": "https://localhost:8080/"
        },
        "id": "CPsZ2s8FYawB",
        "outputId": "249ea48e-3831-4b95-e4f3-0b97b9aa2d1e"
      },
      "outputs": [
        {
          "output_type": "stream",
          "name": "stderr",
          "text": [
            "/usr/local/lib/python3.11/dist-packages/torchvision/models/_utils.py:208: UserWarning: The parameter 'pretrained' is deprecated since 0.13 and may be removed in the future, please use 'weights' instead.\n",
            "  warnings.warn(\n",
            "/usr/local/lib/python3.11/dist-packages/torchvision/models/_utils.py:223: UserWarning: Arguments other than a weight enum or `None` for 'weights' are deprecated since 0.13 and may be removed in the future. The current behavior is equivalent to passing `weights=VGG16_Weights.IMAGENET1K_V1`. You can also use `weights=VGG16_Weights.DEFAULT` to get the most up-to-date weights.\n",
            "  warnings.warn(msg)\n",
            "Downloading: \"https://download.pytorch.org/models/vgg16-397923af.pth\" to /root/.cache/torch/hub/checkpoints/vgg16-397923af.pth\n",
            "100%|██████████| 528M/528M [00:03<00:00, 153MB/s]\n"
          ]
        },
        {
          "output_type": "execute_result",
          "data": {
            "text/plain": [
              "VGG(\n",
              "  (features): Sequential(\n",
              "    (0): Conv2d(3, 64, kernel_size=(3, 3), stride=(1, 1), padding=(1, 1))\n",
              "    (1): ReLU(inplace=True)\n",
              "    (2): Conv2d(64, 64, kernel_size=(3, 3), stride=(1, 1), padding=(1, 1))\n",
              "    (3): ReLU(inplace=True)\n",
              "    (4): MaxPool2d(kernel_size=2, stride=2, padding=0, dilation=1, ceil_mode=False)\n",
              "    (5): Conv2d(64, 128, kernel_size=(3, 3), stride=(1, 1), padding=(1, 1))\n",
              "    (6): ReLU(inplace=True)\n",
              "    (7): Conv2d(128, 128, kernel_size=(3, 3), stride=(1, 1), padding=(1, 1))\n",
              "    (8): ReLU(inplace=True)\n",
              "    (9): MaxPool2d(kernel_size=2, stride=2, padding=0, dilation=1, ceil_mode=False)\n",
              "    (10): Conv2d(128, 256, kernel_size=(3, 3), stride=(1, 1), padding=(1, 1))\n",
              "    (11): ReLU(inplace=True)\n",
              "    (12): Conv2d(256, 256, kernel_size=(3, 3), stride=(1, 1), padding=(1, 1))\n",
              "    (13): ReLU(inplace=True)\n",
              "    (14): Conv2d(256, 256, kernel_size=(3, 3), stride=(1, 1), padding=(1, 1))\n",
              "    (15): ReLU(inplace=True)\n",
              "    (16): MaxPool2d(kernel_size=2, stride=2, padding=0, dilation=1, ceil_mode=False)\n",
              "    (17): Conv2d(256, 512, kernel_size=(3, 3), stride=(1, 1), padding=(1, 1))\n",
              "    (18): ReLU(inplace=True)\n",
              "    (19): Conv2d(512, 512, kernel_size=(3, 3), stride=(1, 1), padding=(1, 1))\n",
              "    (20): ReLU(inplace=True)\n",
              "    (21): Conv2d(512, 512, kernel_size=(3, 3), stride=(1, 1), padding=(1, 1))\n",
              "    (22): ReLU(inplace=True)\n",
              "    (23): MaxPool2d(kernel_size=2, stride=2, padding=0, dilation=1, ceil_mode=False)\n",
              "    (24): Conv2d(512, 512, kernel_size=(3, 3), stride=(1, 1), padding=(1, 1))\n",
              "    (25): ReLU(inplace=True)\n",
              "    (26): Conv2d(512, 512, kernel_size=(3, 3), stride=(1, 1), padding=(1, 1))\n",
              "    (27): ReLU(inplace=True)\n",
              "    (28): Conv2d(512, 512, kernel_size=(3, 3), stride=(1, 1), padding=(1, 1))\n",
              "    (29): ReLU(inplace=True)\n",
              "    (30): MaxPool2d(kernel_size=2, stride=2, padding=0, dilation=1, ceil_mode=False)\n",
              "  )\n",
              "  (avgpool): AdaptiveAvgPool2d(output_size=(7, 7))\n",
              "  (classifier): Sequential(\n",
              "    (0): Linear(in_features=25088, out_features=4096, bias=True)\n",
              "    (1): ReLU(inplace=True)\n",
              "    (2): Dropout(p=0.5, inplace=False)\n",
              "    (3): Linear(in_features=4096, out_features=4096, bias=True)\n",
              "    (4): ReLU(inplace=True)\n",
              "    (5): Dropout(p=0.5, inplace=False)\n",
              "    (6): Linear(in_features=4096, out_features=1000, bias=True)\n",
              "  )\n",
              ")"
            ]
          },
          "metadata": {},
          "execution_count": 1
        }
      ],
      "source": [
        "from torchvision.models import vgg16\n",
        "model=vgg16(pretrained=True)\n",
        "model"
      ]
    },
    {
      "cell_type": "code",
      "source": [
        "from torchsummary import summary\n",
        "import torch\n",
        "device=torch.device('cuda' if torch.cuda.is_available() else 'cpu')\n",
        "model.to(device)\n",
        "summary(model,input_size=(3,224,224))"
      ],
      "metadata": {
        "colab": {
          "base_uri": "https://localhost:8080/"
        },
        "id": "Q-XvBhfbZ8ES",
        "outputId": "ce0a142b-5c92-414a-8efb-bc5508697987"
      },
      "execution_count": 3,
      "outputs": [
        {
          "output_type": "stream",
          "name": "stdout",
          "text": [
            "----------------------------------------------------------------\n",
            "        Layer (type)               Output Shape         Param #\n",
            "================================================================\n",
            "            Conv2d-1         [-1, 64, 224, 224]           1,792\n",
            "              ReLU-2         [-1, 64, 224, 224]               0\n",
            "            Conv2d-3         [-1, 64, 224, 224]          36,928\n",
            "              ReLU-4         [-1, 64, 224, 224]               0\n",
            "         MaxPool2d-5         [-1, 64, 112, 112]               0\n",
            "            Conv2d-6        [-1, 128, 112, 112]          73,856\n",
            "              ReLU-7        [-1, 128, 112, 112]               0\n",
            "            Conv2d-8        [-1, 128, 112, 112]         147,584\n",
            "              ReLU-9        [-1, 128, 112, 112]               0\n",
            "        MaxPool2d-10          [-1, 128, 56, 56]               0\n",
            "           Conv2d-11          [-1, 256, 56, 56]         295,168\n",
            "             ReLU-12          [-1, 256, 56, 56]               0\n",
            "           Conv2d-13          [-1, 256, 56, 56]         590,080\n",
            "             ReLU-14          [-1, 256, 56, 56]               0\n",
            "           Conv2d-15          [-1, 256, 56, 56]         590,080\n",
            "             ReLU-16          [-1, 256, 56, 56]               0\n",
            "        MaxPool2d-17          [-1, 256, 28, 28]               0\n",
            "           Conv2d-18          [-1, 512, 28, 28]       1,180,160\n",
            "             ReLU-19          [-1, 512, 28, 28]               0\n",
            "           Conv2d-20          [-1, 512, 28, 28]       2,359,808\n",
            "             ReLU-21          [-1, 512, 28, 28]               0\n",
            "           Conv2d-22          [-1, 512, 28, 28]       2,359,808\n",
            "             ReLU-23          [-1, 512, 28, 28]               0\n",
            "        MaxPool2d-24          [-1, 512, 14, 14]               0\n",
            "           Conv2d-25          [-1, 512, 14, 14]       2,359,808\n",
            "             ReLU-26          [-1, 512, 14, 14]               0\n",
            "           Conv2d-27          [-1, 512, 14, 14]       2,359,808\n",
            "             ReLU-28          [-1, 512, 14, 14]               0\n",
            "           Conv2d-29          [-1, 512, 14, 14]       2,359,808\n",
            "             ReLU-30          [-1, 512, 14, 14]               0\n",
            "        MaxPool2d-31            [-1, 512, 7, 7]               0\n",
            "AdaptiveAvgPool2d-32            [-1, 512, 7, 7]               0\n",
            "           Linear-33                 [-1, 4096]     102,764,544\n",
            "             ReLU-34                 [-1, 4096]               0\n",
            "          Dropout-35                 [-1, 4096]               0\n",
            "           Linear-36                 [-1, 4096]      16,781,312\n",
            "             ReLU-37                 [-1, 4096]               0\n",
            "          Dropout-38                 [-1, 4096]               0\n",
            "           Linear-39                 [-1, 1000]       4,097,000\n",
            "================================================================\n",
            "Total params: 138,357,544\n",
            "Trainable params: 138,357,544\n",
            "Non-trainable params: 0\n",
            "----------------------------------------------------------------\n",
            "Input size (MB): 0.57\n",
            "Forward/backward pass size (MB): 218.78\n",
            "Params size (MB): 527.79\n",
            "Estimated Total Size (MB): 747.15\n",
            "----------------------------------------------------------------\n"
          ]
        }
      ]
    },
    {
      "cell_type": "markdown",
      "source": [
        "# preparing data"
      ],
      "metadata": {
        "id": "FDtmILfQeuW9"
      }
    },
    {
      "cell_type": "code",
      "source": [
        "import kagglehub\n",
        "\n",
        "# Download latest version\n",
        "path = kagglehub.dataset_download(\"alsaniipe/flowers-dataset\")\n",
        "\n",
        "print(\"Path to dataset files:\", path)"
      ],
      "metadata": {
        "colab": {
          "base_uri": "https://localhost:8080/"
        },
        "id": "d8LU-2bTethv",
        "outputId": "3b9ec3b5-3228-4409-d540-9acd13e17a34"
      },
      "execution_count": 4,
      "outputs": [
        {
          "output_type": "stream",
          "name": "stdout",
          "text": [
            "Downloading from https://www.kaggle.com/api/v1/datasets/download/alsaniipe/flowers-dataset?dataset_version_number=1...\n"
          ]
        },
        {
          "output_type": "stream",
          "name": "stderr",
          "text": [
            "100%|██████████| 60.5M/60.5M [00:02<00:00, 26.4MB/s]"
          ]
        },
        {
          "output_type": "stream",
          "name": "stdout",
          "text": [
            "Extracting files...\n"
          ]
        },
        {
          "output_type": "stream",
          "name": "stderr",
          "text": [
            "\n"
          ]
        },
        {
          "output_type": "stream",
          "name": "stdout",
          "text": [
            "Path to dataset files: /root/.cache/kagglehub/datasets/alsaniipe/flowers-dataset/versions/1\n"
          ]
        }
      ]
    },
    {
      "cell_type": "code",
      "source": [
        "! cp -r $path ./ >>/dev/null"
      ],
      "metadata": {
        "id": "XCMwgDlleyhr"
      },
      "execution_count": 5,
      "outputs": []
    },
    {
      "cell_type": "code",
      "source": [
        "from torch.utils.data import Dataset,DataLoader\n",
        "from torchvision import transforms\n",
        "from PIL import Image\n",
        "import os\n",
        "class flowerdataset(Dataset):\n",
        "  def __init__(self,img_dir,transformer=None):\n",
        "    self.img_dir=img_dir\n",
        "    self.transformer=transformer\n",
        "    self.labels=[]\n",
        "    self.class_names={}\n",
        "    self.img_paths=[]\n",
        "    for label,class_name in enumerate(os.listdir(img_dir)):\n",
        "      self.class_names[label]=class_name\n",
        "      cls_dir=os.path.join(img_dir,class_name)\n",
        "      for img_name in os.listdir(cls_dir):\n",
        "        if img_name.split('.')[-1] in ['jpeg','jpg']:\n",
        "          self.labels.append(label)\n",
        "          image_path=os.path.join(cls_dir,img_name)\n",
        "          self.img_paths.append(image_path)\n",
        "  def __len__(self):\n",
        "    return len(self.img_paths)\n",
        "  def __getitem__(self,idx):\n",
        "    label=self.labels[idx]\n",
        "    image=self.img_paths[idx]\n",
        "    if self.transformer:\n",
        "      image=Image.open(image).convert('RGB')\n",
        "      image=self.transformer(image)\n",
        "    return image,label\n",
        "transformer={'train':transforms.Compose([transforms.RandomResizedCrop(224),\n",
        "                                         transforms.RandomHorizontalFlip(),\n",
        "                                         transforms.ToTensor(),\n",
        "                                         transforms.Normalize(mean=[.485,.456,.406],std=[.229,.224,.225])]),\n",
        "             'test':transforms.Compose([transforms.Resize(224),\n",
        "                                         transforms.ToTensor(),\n",
        "                                         transforms.Normalize(mean=[.485,.456,.406],std=[.229,.224,.225])])}"
      ],
      "metadata": {
        "id": "bXc1BarLe1za"
      },
      "execution_count": 6,
      "outputs": []
    },
    {
      "cell_type": "code",
      "source": [
        "train_dataset=flowerdataset('/content/1/train',transformer['train'])\n",
        "test_dataset=flowerdataset('/content/1/valid',transformer['test'])\n",
        "train_dataloader=DataLoader(train_dataset,batch_size=32,shuffle=True)\n",
        "test_dataloader=DataLoader(test_dataset,batch_size=32,shuffle=True)"
      ],
      "metadata": {
        "id": "5wHhoOHdh96V"
      },
      "execution_count": 8,
      "outputs": []
    },
    {
      "cell_type": "markdown",
      "source": [
        "# freezing the model layer"
      ],
      "metadata": {
        "id": "5l-wj3O3pB91"
      }
    },
    {
      "cell_type": "code",
      "source": [
        "import torch\n",
        "output_classes_no=len(train_dataset.class_names)#2\n",
        "for params in model.parameters():\n",
        "  params.requires_grad=False\n",
        "for params in model.classifier[-1].parameters():\n",
        "  params.requires_grad=True\n",
        "in_feature=model.classifier[-1].in_features\n",
        "model.classifier[-1]=torch.nn.Linear(in_feature,output_classes_no)"
      ],
      "metadata": {
        "id": "xAEcH-RDYpY3"
      },
      "execution_count": 9,
      "outputs": []
    },
    {
      "cell_type": "code",
      "source": [
        "device=torch.device('cuda' if torch.cuda.is_available() else 'cpu')\n",
        "model.to(device)\n",
        "summary(model,input_size=(3,224,224))"
      ],
      "metadata": {
        "colab": {
          "base_uri": "https://localhost:8080/"
        },
        "id": "RFHbV5Whd5ci",
        "outputId": "9d9e488b-44de-47ae-f201-aa90507eb226"
      },
      "execution_count": 13,
      "outputs": [
        {
          "output_type": "stream",
          "name": "stdout",
          "text": [
            "----------------------------------------------------------------\n",
            "        Layer (type)               Output Shape         Param #\n",
            "================================================================\n",
            "            Conv2d-1         [-1, 64, 224, 224]           1,792\n",
            "              ReLU-2         [-1, 64, 224, 224]               0\n",
            "            Conv2d-3         [-1, 64, 224, 224]          36,928\n",
            "              ReLU-4         [-1, 64, 224, 224]               0\n",
            "         MaxPool2d-5         [-1, 64, 112, 112]               0\n",
            "            Conv2d-6        [-1, 128, 112, 112]          73,856\n",
            "              ReLU-7        [-1, 128, 112, 112]               0\n",
            "            Conv2d-8        [-1, 128, 112, 112]         147,584\n",
            "              ReLU-9        [-1, 128, 112, 112]               0\n",
            "        MaxPool2d-10          [-1, 128, 56, 56]               0\n",
            "           Conv2d-11          [-1, 256, 56, 56]         295,168\n",
            "             ReLU-12          [-1, 256, 56, 56]               0\n",
            "           Conv2d-13          [-1, 256, 56, 56]         590,080\n",
            "             ReLU-14          [-1, 256, 56, 56]               0\n",
            "           Conv2d-15          [-1, 256, 56, 56]         590,080\n",
            "             ReLU-16          [-1, 256, 56, 56]               0\n",
            "        MaxPool2d-17          [-1, 256, 28, 28]               0\n",
            "           Conv2d-18          [-1, 512, 28, 28]       1,180,160\n",
            "             ReLU-19          [-1, 512, 28, 28]               0\n",
            "           Conv2d-20          [-1, 512, 28, 28]       2,359,808\n",
            "             ReLU-21          [-1, 512, 28, 28]               0\n",
            "           Conv2d-22          [-1, 512, 28, 28]       2,359,808\n",
            "             ReLU-23          [-1, 512, 28, 28]               0\n",
            "        MaxPool2d-24          [-1, 512, 14, 14]               0\n",
            "           Conv2d-25          [-1, 512, 14, 14]       2,359,808\n",
            "             ReLU-26          [-1, 512, 14, 14]               0\n",
            "           Conv2d-27          [-1, 512, 14, 14]       2,359,808\n",
            "             ReLU-28          [-1, 512, 14, 14]               0\n",
            "           Conv2d-29          [-1, 512, 14, 14]       2,359,808\n",
            "             ReLU-30          [-1, 512, 14, 14]               0\n",
            "        MaxPool2d-31            [-1, 512, 7, 7]               0\n",
            "AdaptiveAvgPool2d-32            [-1, 512, 7, 7]               0\n",
            "           Linear-33                 [-1, 4096]     102,764,544\n",
            "             ReLU-34                 [-1, 4096]               0\n",
            "          Dropout-35                 [-1, 4096]               0\n",
            "           Linear-36                 [-1, 4096]      16,781,312\n",
            "             ReLU-37                 [-1, 4096]               0\n",
            "          Dropout-38                 [-1, 4096]               0\n",
            "           Linear-39                    [-1, 2]           8,194\n",
            "================================================================\n",
            "Total params: 134,268,738\n",
            "Trainable params: 8,194\n",
            "Non-trainable params: 134,260,544\n",
            "----------------------------------------------------------------\n",
            "Input size (MB): 0.57\n",
            "Forward/backward pass size (MB): 218.77\n",
            "Params size (MB): 512.19\n",
            "Estimated Total Size (MB): 731.54\n",
            "----------------------------------------------------------------\n"
          ]
        }
      ]
    },
    {
      "cell_type": "code",
      "source": [
        "from torch import nn\n",
        "from torch import optim\n",
        "criterion=nn.CrossEntropyLoss()\n",
        "optimizer=optim.Adam(model.parameters(),lr=.001)"
      ],
      "metadata": {
        "id": "NOUKsd2XYsNK"
      },
      "execution_count": 14,
      "outputs": []
    },
    {
      "cell_type": "code",
      "source": [
        "epochs=10\n",
        "for epoch in range(1,epochs+1):\n",
        "  model.train()\n",
        "  train_loss=[]\n",
        "  test_loss=[]\n",
        "  train_accuracy=[]\n",
        "  test_accuracy=[]\n",
        "\n",
        "  for img,label in train_dataloader:\n",
        "    img=img.to(device)\n",
        "    label=label.to(device)\n",
        "    optimizer.zero_grad()\n",
        "    pred=model(img)\n",
        "    loss=criterion(pred,label)\n",
        "    loss.backward()\n",
        "    optimizer.step()\n",
        "    #train loss\n",
        "    train_loss.append(loss.item())\n",
        "    #train accuracy\n",
        "    _,predict=torch.max(pred,1)\n",
        "    correct=(predict==label).sum().item()\n",
        "    total=label.size(0)\n",
        "    train_accuracy.append(correct/total)\n",
        "  model.eval()\n",
        "  with torch.no_grad():\n",
        "    for img,label in test_dataloader:\n",
        "      img=img.to(device)\n",
        "      label=label.to(device)\n",
        "      pred=model(img)\n",
        "      loss=criterion(pred,label)\n",
        "      #train loss\n",
        "      test_loss.append(loss.item())\n",
        "      #train accuracy\n",
        "      _,predict=torch.max(pred,1)\n",
        "      correct=(predict==label).sum().item()\n",
        "      total=label.size(0)\n",
        "      test_accuracy.append(correct/total)\n",
        "  print(f'Epoch [{epoch}/{epochs}] --> train loss: {sum(train_loss)/len(train_loss)} train Accuracy: {sum(train_accuracy)/len(train_accuracy)} test loss: {sum(test_loss)/len(test_loss)} test Accuracy: {sum(test_accuracy)/len(test_accuracy)}')\n"
      ],
      "metadata": {
        "colab": {
          "base_uri": "https://localhost:8080/"
        },
        "id": "n0VArCccpH44",
        "outputId": "69d347e5-32da-409e-f5ad-5780d88d9d93"
      },
      "execution_count": 15,
      "outputs": [
        {
          "output_type": "stream",
          "name": "stdout",
          "text": [
            "Epoch [1/10] --> train loss: 0.296254288777709 train Accuracy: 0.8658275462962963 test loss: 0.17214594191561142 test Accuracy: 0.9331597222222222\n",
            "Epoch [2/10] --> train loss: 0.1954872602596879 train Accuracy: 0.920167824074074 test loss: 0.18262259537974992 test Accuracy: 0.90625\n",
            "Epoch [3/10] --> train loss: 0.1841515283100307 train Accuracy: 0.9222222222222222 test loss: 0.17441329018523297 test Accuracy: 0.9262152777777778\n",
            "Epoch [4/10] --> train loss: 0.18882122868672013 train Accuracy: 0.9200231481481481 test loss: 0.1874103962133328 test Accuracy: 0.9201388888888888\n",
            "Epoch [5/10] --> train loss: 0.17437837840989232 train Accuracy: 0.9317418981481481 test loss: 0.1627163471033176 test Accuracy: 0.9375\n",
            "Epoch [6/10] --> train loss: 0.1586717368569225 train Accuracy: 0.9350115740740741 test loss: 0.18815923482179642 test Accuracy: 0.9192708333333334\n",
            "Epoch [7/10] --> train loss: 0.19024826525710523 train Accuracy: 0.9161168981481481 test loss: 0.16001932322978973 test Accuracy: 0.9401041666666666\n",
            "Epoch [8/10] --> train loss: 0.15567695843055845 train Accuracy: 0.9423900462962964 test loss: 0.16087130558056137 test Accuracy: 0.9401041666666666\n",
            "Epoch [9/10] --> train loss: 0.16733892522752286 train Accuracy: 0.9262731481481481 test loss: 0.18464694234232107 test Accuracy: 0.9305555555555555\n",
            "Epoch [10/10] --> train loss: 0.16322435224428772 train Accuracy: 0.9275462962962964 test loss: 0.17390356705679247 test Accuracy: 0.9296875\n"
          ]
        }
      ]
    }
  ]
}