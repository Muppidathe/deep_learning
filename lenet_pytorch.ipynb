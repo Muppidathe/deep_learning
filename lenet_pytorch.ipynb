{
  "nbformat": 4,
  "nbformat_minor": 0,
  "metadata": {
    "colab": {
      "provenance": [],
      "gpuType": "T4",
      "authorship_tag": "ABX9TyOW33qdm4XhfmnyypQsDGLi",
      "include_colab_link": true
    },
    "kernelspec": {
      "name": "python3",
      "display_name": "Python 3"
    },
    "language_info": {
      "name": "python"
    },
    "accelerator": "GPU"
  },
  "cells": [
    {
      "cell_type": "markdown",
      "metadata": {
        "id": "view-in-github",
        "colab_type": "text"
      },
      "source": [
        "<a href=\"https://colab.research.google.com/github/Muppidathe/deep_learning/blob/main/lenet_pytorch.ipynb\" target=\"_parent\"><img src=\"https://colab.research.google.com/assets/colab-badge.svg\" alt=\"Open In Colab\"/></a>"
      ]
    },
    {
      "cell_type": "code",
      "execution_count": 1,
      "metadata": {
        "id": "pTRfAjEKg-yM"
      },
      "outputs": [],
      "source": [
        "import torchvision\n",
        "from torchvision import transforms"
      ]
    },
    {
      "cell_type": "code",
      "source": [
        "transformer=transforms.Compose([transforms.Resize((28,28)),transforms.ToTensor(),transforms.Normalize(mean=0.1307,std=.3081)])\n",
        "train_dataset=torchvision.datasets.MNIST(root='./data',train=True,transform=transformer,download=True)\n",
        "test_dataset=torchvision.datasets.MNIST(root='./data',train=False,transform=transformer,download=True)"
      ],
      "metadata": {
        "colab": {
          "base_uri": "https://localhost:8080/"
        },
        "id": "YAFdDUuXtemJ",
        "outputId": "c230f7ba-7651-46de-a3c0-d8b6a3ced283"
      },
      "execution_count": 2,
      "outputs": [
        {
          "output_type": "stream",
          "name": "stderr",
          "text": [
            "100%|██████████| 9.91M/9.91M [00:00<00:00, 60.1MB/s]\n",
            "100%|██████████| 28.9k/28.9k [00:00<00:00, 1.71MB/s]\n",
            "100%|██████████| 1.65M/1.65M [00:00<00:00, 15.0MB/s]\n",
            "100%|██████████| 4.54k/4.54k [00:00<00:00, 8.36MB/s]\n"
          ]
        }
      ]
    },
    {
      "cell_type": "code",
      "source": [
        "from torch.utils.data import DataLoader\n",
        "train_data_loader=DataLoader(train_dataset,batch_size=32,shuffle=True)\n",
        "test_data_loader=DataLoader(test_dataset,batch_size=32,shuffle=True)"
      ],
      "metadata": {
        "id": "Rk8mLwTS4yuL"
      },
      "execution_count": 3,
      "outputs": []
    },
    {
      "cell_type": "markdown",
      "source": [
        "#formula\n",
        "(Input + 2Padding -(kernal_size - 1) - 1) / stride + 1"
      ],
      "metadata": {
        "id": "-68GQvgK1ZDN"
      }
    },
    {
      "cell_type": "code",
      "source": [
        "import torch.nn as nn\n",
        "class lenet(nn.Module):\n",
        "  def __init__(self):\n",
        "    super().__init__()\n",
        "    self.conv1=nn.Conv2d(1,6,kernel_size=5,stride=1,padding=2)#(28*28/1 -> 28*28/6)\n",
        "    self.relu=nn.ReLU()\n",
        "    self.pool1=nn.AvgPool2d(kernel_size=2,stride=2)#(28*28/6 -> 14*14/6)\n",
        "    self.conv2=nn.Conv2d(6,16,kernel_size=5,stride=1)#(14*14/6 -> 10*10/16)\n",
        "    self.pool2=nn.AvgPool2d(kernel_size=2,stride=2)#(10*10/16 -.5*5/16)\n",
        "    self.flatten=nn.Flatten()\n",
        "    self.dense1=nn.Linear(16*5*5,120)\n",
        "    self.dense2=nn.Linear(120,84)\n",
        "    self.dense3=nn.Linear(84,10)\n",
        "  def forward(self,x):\n",
        "    x=self.pool1(self.relu(self.conv1(x)))\n",
        "    x=self.pool2(self.relu(self.conv2(x)))\n",
        "    x=self.flatten(x)\n",
        "    x=self.relu(self.dense1(x))\n",
        "    x=self.relu(self.dense2(x))\n",
        "    x=self.dense3(x)\n",
        "    x=nn.functional.softmax(x,dim=1)\n",
        "    return x"
      ],
      "metadata": {
        "id": "ZVV6R2Xxw08r"
      },
      "execution_count": 4,
      "outputs": []
    },
    {
      "cell_type": "code",
      "source": [
        "import torch\n",
        "from torch import optim\n",
        "model=lenet()\n",
        "device=torch.device('cuda' if torch.cuda.is_available() else 'cpu')\n",
        "model.to(device)\n",
        "optimizer=optim.Adam(model.parameters(),lr=.001)\n",
        "criterion=nn.CrossEntropyLoss()\n",
        "epochs=10\n",
        "for epoch in range(epochs):\n",
        "  running_loss=[]\n",
        "  total,correct=0,0\n",
        "  model.train()\n",
        "  for image,label in train_data_loader:\n",
        "    image=image.to(device)\n",
        "    label=label.to(device)\n",
        "    output=model(image)\n",
        "    optimizer.zero_grad()\n",
        "    loss=criterion(output,label)\n",
        "    loss.backward()\n",
        "    optimizer.step()\n",
        "    _,predicted=torch.max(output,1)\n",
        "    total+=label.size(0)\n",
        "    correct+=(predicted==label).sum().item()\n",
        "    running_loss.append(loss.item())\n",
        "  train_avg_loss=sum(running_loss)/len(running_loss)\n",
        "  train_accuracy=100*correct/total\n",
        "  model.eval()\n",
        "  running_loss=[]\n",
        "  total,correct=0,0\n",
        "  with torch.no_grad():\n",
        "    image=image.to(device)\n",
        "    label=label.to(device)\n",
        "    for image,label in test_data_loader:\n",
        "      image=image.to(device)\n",
        "      label=label.to(device)\n",
        "      output=model(image)\n",
        "      loss=criterion(output,label)\n",
        "      running_loss.append(loss.item())\n",
        "      _,predicted=torch.max(output,1)\n",
        "      total+=label.size(0)\n",
        "      correct+=(predicted==label).sum().item()\n",
        "  accuracy=100*correct/total\n",
        "  avg_loss=sum(running_loss)/len(running_loss)\n",
        "  print(f'Epoch [{epoch+1}/{epochs}]--> train loss {train_avg_loss} train accuracy {train_accuracy} test loss {avg_loss} test accuracy {accuracy}')\n",
        "\n"
      ],
      "metadata": {
        "colab": {
          "base_uri": "https://localhost:8080/"
        },
        "id": "rPS4IDCf4jTf",
        "outputId": "2ce5db85-9847-47aa-e89e-cb1ee8dc6c48"
      },
      "execution_count": 9,
      "outputs": [
        {
          "output_type": "stream",
          "name": "stdout",
          "text": [
            "Epoch [1/10]--> train loss 1.5695996491750082 train accuracy 89.55666666666667 test loss 1.4991713529958512 test accuracy 96.32\n",
            "Epoch [2/10]--> train loss 1.4932534084320068 train accuracy 96.84833333333333 test loss 1.4877289655490424 test accuracy 97.47\n",
            "Epoch [3/10]--> train loss 1.4869401298522948 train accuracy 97.45833333333333 test loss 1.4875239644187708 test accuracy 97.37\n",
            "Epoch [4/10]--> train loss 1.483885770924886 train accuracy 97.74333333333334 test loss 1.4783154299464851 test accuracy 98.31\n",
            "Epoch [5/10]--> train loss 1.480341119893392 train accuracy 98.08833333333334 test loss 1.47846042233915 test accuracy 98.28\n",
            "Epoch [6/10]--> train loss 1.479487887763977 train accuracy 98.185 test loss 1.4782655022014826 test accuracy 98.26\n",
            "Epoch [7/10]--> train loss 1.4777521405537923 train accuracy 98.34333333333333 test loss 1.4779594005487215 test accuracy 98.32\n",
            "Epoch [8/10]--> train loss 1.4766102633158367 train accuracy 98.45833333333333 test loss 1.4745299663787452 test accuracy 98.65\n",
            "Epoch [9/10]--> train loss 1.4768171181996663 train accuracy 98.425 test loss 1.4763836868273945 test accuracy 98.47\n",
            "Epoch [10/10]--> train loss 1.4760619187672932 train accuracy 98.50333333333333 test loss 1.4752028114117754 test accuracy 98.59\n"
          ]
        }
      ]
    },
    {
      "cell_type": "code",
      "source": [],
      "metadata": {
        "id": "ymy9GPQ5MEdh"
      },
      "execution_count": null,
      "outputs": []
    }
  ]
}